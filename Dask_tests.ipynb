{
 "cells": [
  {
   "cell_type": "code",
   "execution_count": 1,
   "metadata": {},
   "outputs": [
    {
     "name": "stdout",
     "output_type": "stream",
     "text": [
      "review_id                   object\n",
      "user_id                     object\n",
      "business_id                 object\n",
      "stars                        int32\n",
      "date           datetime64[ns, UTC]\n",
      "text                        object\n",
      "useful                       int32\n",
      "funny                        int32\n",
      "cool                         int32\n",
      "dtype: object\n",
      "                    review_id                 user_id             business_id  \\\n",
      "index                                                                           \n",
      "0      o1qYw1U8wGghaetGVFpvDQ  pJxbP5EuMgHI-2VtibAgmA  mJFdBXviC-1YRtY51XnS6A   \n",
      "1      yhEjeiKaIy8TWJL42Xgp1w  IR1DdN4wwkc4fI0Qv5KyYg  e4NQLZynhSmvwl38hC4m-A   \n",
      "2      1US3ayDP-yVI5sXyx5Sk-g  ZQBZq-RZqObP0xchzX7p8w  F1odkZWmcXGylij8HjRq6Q   \n",
      "3      MisNiCS065C5GqJ-IYWuvQ  2E9e6OQ7Cb0E_xtHHyEX7A  plEghR2-XhS5WtZAmp-x5Q   \n",
      "4      FKXILR2RkYPejJ2shXlx7g  sjxGOtb7E-qnuLHEMuFX2w  Bx7SDDMr5Y278PFIy0nsmQ   \n",
      "\n",
      "       stars       date                                               text  \\\n",
      "index                                                                        \n",
      "0          5 2017-10-14  We stopped here because we wanted something qu...   \n",
      "1          5 2013-07-18  I am going to make this review simple! I am so...   \n",
      "2          4 2015-04-22  This was a great place for both adults and kid...   \n",
      "3          1 2017-07-01  This place is the worst! Old smelly falling ap...   \n",
      "4          1 2015-08-25  Are you kidding me? This place is horrible. Iv...   \n",
      "\n",
      "       useful  funny  cool  \n",
      "index                       \n",
      "0           0      0     0  \n",
      "1           0      0     0  \n",
      "2           0      0     0  \n",
      "3           2      1     0  \n",
      "4           2      0     0  \n"
     ]
    }
   ],
   "source": [
    "from pset_5.task import TargetOutput, Requires, Requirement\n",
    "from pset_5.dask.target import CSVTarget, ParquetTarget\n",
    "\n",
    "from luigi import ExternalTask, Parameter, Task, format, LocalTarget, DateParameter, BoolParameter\n",
    "from luigi.contrib.s3 import S3Target\n",
    "from dask.dataframe import read_csv, read_parquet, to_csv, to_parquet\n",
    "import pandas as pd\n",
    "\n",
    "\n",
    "\n",
    "\n",
    "dsk = read_parquet(\"data/fullset/*.parquet\")\n",
    "print(dsk.dtypes)\n",
    "print(dsk.head())"
   ]
  },
  {
   "cell_type": "code",
   "execution_count": null,
   "metadata": {},
   "outputs": [],
   "source": [
    "\n"
   ]
  },
  {
   "cell_type": "code",
   "execution_count": 222,
   "metadata": {},
   "outputs": [
    {
     "data": {
      "text/plain": [
       "functools.partial(<bound method Accessor._function_map of <dask.dataframe.accessor.StringAccessor object at 0x0000021066C83DD8>>, 'len')"
      ]
     },
     "execution_count": 222,
     "metadata": {},
     "output_type": "execute_result"
    }
   ],
   "source": [
    "dsk['review_id'].str.len"
   ]
  },
  {
   "cell_type": "code",
   "execution_count": 223,
   "metadata": {},
   "outputs": [
    {
     "data": {
      "text/plain": [
       "dask.dataframe.core.DataFrame"
      ]
     },
     "execution_count": 223,
     "metadata": {},
     "output_type": "execute_result"
    }
   ],
   "source": [
    "type(dsk)"
   ]
  },
  {
   "cell_type": "code",
   "execution_count": 224,
   "metadata": {},
   "outputs": [
    {
     "data": {
      "text/plain": [
       "199943"
      ]
     },
     "execution_count": 224,
     "metadata": {},
     "output_type": "execute_result"
    }
   ],
   "source": [
    "len(dsk)"
   ]
  },
  {
   "cell_type": "code",
   "execution_count": 225,
   "metadata": {},
   "outputs": [
    {
     "data": {
      "text/plain": [
       "9"
      ]
     },
     "execution_count": 225,
     "metadata": {},
     "output_type": "execute_result"
    }
   ],
   "source": [
    "len(dsk.columns)"
   ]
  },
  {
   "cell_type": "code",
   "execution_count": 226,
   "metadata": {},
   "outputs": [],
   "source": [
    "dsk=dsk[~(~(dsk.review_id.str.len() == 22) | dsk['user_id'].isnull())]"
   ]
  },
  {
   "cell_type": "code",
   "execution_count": 227,
   "metadata": {},
   "outputs": [
    {
     "data": {
      "text/plain": [
       "199943"
      ]
     },
     "execution_count": 227,
     "metadata": {},
     "output_type": "execute_result"
    }
   ],
   "source": [
    "len(dsk)"
   ]
  },
  {
   "cell_type": "code",
   "execution_count": 228,
   "metadata": {},
   "outputs": [
    {
     "data": {
      "text/plain": [
       "0"
      ]
     },
     "execution_count": 228,
     "metadata": {},
     "output_type": "execute_result"
    }
   ],
   "source": [
    "pd.isnull(dsk['useful']).sum() "
   ]
  },
  {
   "cell_type": "code",
   "execution_count": 229,
   "metadata": {},
   "outputs": [],
   "source": [
    "dsk[['useful','funny', 'stars', 'cool']]= dsk[['useful','funny','stars','cool']].fillna(0)"
   ]
  },
  {
   "cell_type": "code",
   "execution_count": 230,
   "metadata": {},
   "outputs": [
    {
     "data": {
      "text/plain": [
       "0"
      ]
     },
     "execution_count": 230,
     "metadata": {},
     "output_type": "execute_result"
    }
   ],
   "source": [
    "pd.isnull(dsk['useful']).sum() "
   ]
  },
  {
   "cell_type": "code",
   "execution_count": 231,
   "metadata": {},
   "outputs": [
    {
     "data": {
      "text/plain": [
       "0"
      ]
     },
     "execution_count": 231,
     "metadata": {},
     "output_type": "execute_result"
    }
   ],
   "source": [
    "pd.isnull(dsk['cool']).sum() "
   ]
  },
  {
   "cell_type": "code",
   "execution_count": 232,
   "metadata": {},
   "outputs": [
    {
     "data": {
      "text/plain": [
       "review_id                   object\n",
       "user_id                     object\n",
       "business_id                 object\n",
       "stars                        int32\n",
       "date           datetime64[ns, UTC]\n",
       "text                        object\n",
       "useful                       int32\n",
       "funny                        int32\n",
       "cool                         int32\n",
       "dtype: object"
      ]
     },
     "execution_count": 232,
     "metadata": {},
     "output_type": "execute_result"
    }
   ],
   "source": [
    "dsk.dtypes"
   ]
  },
  {
   "cell_type": "code",
   "execution_count": 175,
   "metadata": {},
   "outputs": [
    {
     "name": "stdout",
     "output_type": "stream",
     "text": [
      "199943\n"
     ]
    },
    {
     "data": {
      "text/plain": [
       "review_id                   object\n",
       "user_id                     object\n",
       "business_id                 object\n",
       "stars                        int32\n",
       "date           datetime64[ns, UTC]\n",
       "text                        object\n",
       "useful                       int32\n",
       "funny                        int32\n",
       "cool                         int32\n",
       "dtype: object"
      ]
     },
     "execution_count": 175,
     "metadata": {},
     "output_type": "execute_result"
    }
   ],
   "source": [
    "dsk=dsk[~(~(dsk.review_id.str.len() == 22) | dsk['user_id'].isnull())]\n",
    "print(len(dsk))\n",
    "dsk[['useful','funny', 'stars', 'cool']]= dsk[['useful','funny','stars','cool']].astype(int)\n",
    "dsk.dtypes"
   ]
  },
  {
   "cell_type": "code",
   "execution_count": 176,
   "metadata": {},
   "outputs": [
    {
     "data": {
      "text/plain": [
       "index\n",
       "0     182\n",
       "1     336\n",
       "2     651\n",
       "3    1854\n",
       "4     607\n",
       "Name: text_length, dtype: int64"
      ]
     },
     "execution_count": 176,
     "metadata": {},
     "output_type": "execute_result"
    }
   ],
   "source": [
    "dsk1 = dsk\n",
    "type(dsk1)\n",
    "dsk['text_length']=dsk['text'].str.len()\n",
    "dsk.text_length.head()"
   ]
  },
  {
   "cell_type": "code",
   "execution_count": 177,
   "metadata": {},
   "outputs": [
    {
     "data": {
      "text/plain": [
       "stars\n",
       "1    755.244306\n",
       "2    762.685914\n",
       "3    709.630383\n",
       "4    622.908382\n",
       "5    485.507673\n",
       "Name: text_length, dtype: float64"
      ]
     },
     "execution_count": 177,
     "metadata": {},
     "output_type": "execute_result"
    }
   ],
   "source": [
    "dsk.groupby('stars').text_length.mean().compute()"
   ]
  },
  {
   "cell_type": "code",
   "execution_count": 234,
   "metadata": {},
   "outputs": [
    {
     "data": {
      "text/plain": [
       "2005.0"
      ]
     },
     "execution_count": 234,
     "metadata": {},
     "output_type": "execute_result"
    }
   ],
   "source": [
    "dsk.date.dt.year.min().compute()"
   ]
  },
  {
   "cell_type": "code",
   "execution_count": 246,
   "metadata": {},
   "outputs": [
    {
     "data": {
      "text/plain": [
       "decade\n",
       "0    776\n",
       "1    598\n",
       "Name: text_length, dtype: int32"
      ]
     },
     "execution_count": 246,
     "metadata": {},
     "output_type": "execute_result"
    }
   ],
   "source": [
    "dsk = read_parquet(\"data/fullset/*.parquet\")\n",
    "#print(dsk.dtypes)\n",
    "#print(dsk.head())\n",
    "\n",
    "\n",
    "dsk = dsk[~(~(dsk.review_id.str.len() == 22) | dsk['user_id'].isnull())]\n",
    "dsk[['useful', 'funny', 'stars', 'cool']] = dsk[['useful', 'funny', 'stars', 'cool']].fillna(0)\n",
    "dsk[['useful', 'funny', 'stars', 'cool']] = dsk[['useful', 'funny', 'stars', 'cool']].astype(int)\n",
    "\n",
    "\n",
    "\n",
    "dsk['decade'] = (dsk.date.dt.year.mod(100)/10)\n",
    "dsk['decade'].isnull().sum().compute()\n",
    "dsk = dsk[~dsk['decade'].isnull()]\n",
    "dsk['decade'].isnull().sum().compute()\n",
    "dsk['decade'] = dsk['decade'].astype(int)\n",
    "dsk['text_length']=dsk['text'].str.len()\n",
    "dsk.groupby('decade').text_length.mean().astype(int).compute()\n",
    "\n",
    "#dsk=dsk[~dsk['decade'].isnull()]\n",
    "#dsk['decade'].isnull().compute()"
   ]
  },
  {
   "cell_type": "code",
   "execution_count": 241,
   "metadata": {},
   "outputs": [
    {
     "ename": "AttributeError",
     "evalue": "'Column not found: text_length'",
     "output_type": "error",
     "traceback": [
      "\u001b[1;31m---------------------------------------------------------------------------\u001b[0m",
      "\u001b[1;31mKeyError\u001b[0m                                  Traceback (most recent call last)",
      "\u001b[1;32mC:\\ProgramData\\Anaconda3\\lib\\site-packages\\dask\\dataframe\\groupby.py\u001b[0m in \u001b[0;36m__getattr__\u001b[1;34m(self, key)\u001b[0m\n\u001b[0;32m   1156\u001b[0m         \u001b[1;32mtry\u001b[0m\u001b[1;33m:\u001b[0m\u001b[1;33m\u001b[0m\u001b[0m\n\u001b[1;32m-> 1157\u001b[1;33m             \u001b[1;32mreturn\u001b[0m \u001b[0mself\u001b[0m\u001b[1;33m[\u001b[0m\u001b[0mkey\u001b[0m\u001b[1;33m]\u001b[0m\u001b[1;33m\u001b[0m\u001b[0m\n\u001b[0m\u001b[0;32m   1158\u001b[0m         \u001b[1;32mexcept\u001b[0m \u001b[0mKeyError\u001b[0m \u001b[1;32mas\u001b[0m \u001b[0me\u001b[0m\u001b[1;33m:\u001b[0m\u001b[1;33m\u001b[0m\u001b[0m\n",
      "\u001b[1;32mC:\\ProgramData\\Anaconda3\\lib\\site-packages\\dask\\dataframe\\groupby.py\u001b[0m in \u001b[0;36m__getitem__\u001b[1;34m(self, key)\u001b[0m\n\u001b[0;32m   1147\u001b[0m         \u001b[1;31m# error is raised from pandas\u001b[0m\u001b[1;33m\u001b[0m\u001b[1;33m\u001b[0m\u001b[0m\n\u001b[1;32m-> 1148\u001b[1;33m         \u001b[0mg\u001b[0m\u001b[1;33m.\u001b[0m\u001b[0m_meta\u001b[0m \u001b[1;33m=\u001b[0m \u001b[0mg\u001b[0m\u001b[1;33m.\u001b[0m\u001b[0m_meta\u001b[0m\u001b[1;33m[\u001b[0m\u001b[0mkey\u001b[0m\u001b[1;33m]\u001b[0m\u001b[1;33m\u001b[0m\u001b[0m\n\u001b[0m\u001b[0;32m   1149\u001b[0m         \u001b[1;32mreturn\u001b[0m \u001b[0mg\u001b[0m\u001b[1;33m\u001b[0m\u001b[0m\n",
      "\u001b[1;32mC:\\ProgramData\\Anaconda3\\lib\\site-packages\\pandas\\core\\base.py\u001b[0m in \u001b[0;36m__getitem__\u001b[1;34m(self, key)\u001b[0m\n\u001b[0;32m    266\u001b[0m             \u001b[1;32mif\u001b[0m \u001b[0mkey\u001b[0m \u001b[1;32mnot\u001b[0m \u001b[1;32min\u001b[0m \u001b[0mself\u001b[0m\u001b[1;33m.\u001b[0m\u001b[0mobj\u001b[0m\u001b[1;33m:\u001b[0m\u001b[1;33m\u001b[0m\u001b[0m\n\u001b[1;32m--> 267\u001b[1;33m                 \u001b[1;32mraise\u001b[0m \u001b[0mKeyError\u001b[0m\u001b[1;33m(\u001b[0m\u001b[1;34m\"Column not found: {key}\"\u001b[0m\u001b[1;33m.\u001b[0m\u001b[0mformat\u001b[0m\u001b[1;33m(\u001b[0m\u001b[0mkey\u001b[0m\u001b[1;33m=\u001b[0m\u001b[0mkey\u001b[0m\u001b[1;33m)\u001b[0m\u001b[1;33m)\u001b[0m\u001b[1;33m\u001b[0m\u001b[0m\n\u001b[0m\u001b[0;32m    268\u001b[0m             \u001b[1;32mreturn\u001b[0m \u001b[0mself\u001b[0m\u001b[1;33m.\u001b[0m\u001b[0m_gotitem\u001b[0m\u001b[1;33m(\u001b[0m\u001b[0mkey\u001b[0m\u001b[1;33m,\u001b[0m \u001b[0mndim\u001b[0m\u001b[1;33m=\u001b[0m\u001b[1;36m1\u001b[0m\u001b[1;33m)\u001b[0m\u001b[1;33m\u001b[0m\u001b[0m\n",
      "\u001b[1;31mKeyError\u001b[0m: 'Column not found: text_length'",
      "\nDuring handling of the above exception, another exception occurred:\n",
      "\u001b[1;31mAttributeError\u001b[0m                            Traceback (most recent call last)",
      "\u001b[1;32m<ipython-input-241-d0d63e72656b>\u001b[0m in \u001b[0;36m<module>\u001b[1;34m()\u001b[0m\n\u001b[1;32m----> 1\u001b[1;33m \u001b[0mdsk\u001b[0m\u001b[1;33m.\u001b[0m\u001b[0mgroupby\u001b[0m\u001b[1;33m(\u001b[0m\u001b[1;34m'decade'\u001b[0m\u001b[1;33m)\u001b[0m\u001b[1;33m.\u001b[0m\u001b[0mtext_length\u001b[0m\u001b[1;33m.\u001b[0m\u001b[0mmean\u001b[0m\u001b[1;33m(\u001b[0m\u001b[1;33m)\u001b[0m\u001b[1;33m.\u001b[0m\u001b[0mcompute\u001b[0m\u001b[1;33m(\u001b[0m\u001b[1;33m)\u001b[0m\u001b[1;33m\u001b[0m\u001b[0m\n\u001b[0m",
      "\u001b[1;32mC:\\ProgramData\\Anaconda3\\lib\\site-packages\\dask\\dataframe\\groupby.py\u001b[0m in \u001b[0;36m__getattr__\u001b[1;34m(self, key)\u001b[0m\n\u001b[0;32m   1157\u001b[0m             \u001b[1;32mreturn\u001b[0m \u001b[0mself\u001b[0m\u001b[1;33m[\u001b[0m\u001b[0mkey\u001b[0m\u001b[1;33m]\u001b[0m\u001b[1;33m\u001b[0m\u001b[0m\n\u001b[0;32m   1158\u001b[0m         \u001b[1;32mexcept\u001b[0m \u001b[0mKeyError\u001b[0m \u001b[1;32mas\u001b[0m \u001b[0me\u001b[0m\u001b[1;33m:\u001b[0m\u001b[1;33m\u001b[0m\u001b[0m\n\u001b[1;32m-> 1159\u001b[1;33m             \u001b[1;32mraise\u001b[0m \u001b[0mAttributeError\u001b[0m\u001b[1;33m(\u001b[0m\u001b[0me\u001b[0m\u001b[1;33m)\u001b[0m\u001b[1;33m\u001b[0m\u001b[0m\n\u001b[0m\u001b[0;32m   1160\u001b[0m \u001b[1;33m\u001b[0m\u001b[0m\n\u001b[0;32m   1161\u001b[0m     \u001b[1;33m@\u001b[0m\u001b[0mderived_from\u001b[0m\u001b[1;33m(\u001b[0m\u001b[0mpd\u001b[0m\u001b[1;33m.\u001b[0m\u001b[0mcore\u001b[0m\u001b[1;33m.\u001b[0m\u001b[0mgroupby\u001b[0m\u001b[1;33m.\u001b[0m\u001b[0mDataFrameGroupBy\u001b[0m\u001b[1;33m)\u001b[0m\u001b[1;33m\u001b[0m\u001b[0m\n",
      "\u001b[1;31mAttributeError\u001b[0m: 'Column not found: text_length'"
     ]
    }
   ],
   "source": []
  },
  {
   "cell_type": "code",
   "execution_count": null,
   "metadata": {},
   "outputs": [],
   "source": []
  }
 ],
 "metadata": {
  "kernelspec": {
   "display_name": "Python 3",
   "language": "python",
   "name": "python3"
  },
  "language_info": {
   "codemirror_mode": {
    "name": "ipython",
    "version": 3
   },
   "file_extension": ".py",
   "mimetype": "text/x-python",
   "name": "python",
   "nbconvert_exporter": "python",
   "pygments_lexer": "ipython3",
   "version": "3.6.5"
  }
 },
 "nbformat": 4,
 "nbformat_minor": 2
}
